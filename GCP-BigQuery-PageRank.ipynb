{
 "cells": [
  {
   "cell_type": "markdown",
   "metadata": {},
   "source": [
    "# Package Install\n",
    "```\n",
    "$ sudo apt-get install python2.7-dev\n",
    "$ sudo easy_install pip\n",
    "$ pip install jupyter\n",
    "$ pip install pandas\n",
    "$ pip install google-api-python-client\n",
    "```"
   ]
  },
  {
   "cell_type": "markdown",
   "metadata": {},
   "source": [
    "# Jupyter spark enviroment.\n",
    "```\n",
    "export PYSPARK_DRIVER_PYTHON=jupyter\n",
    "export PYSPARK_DRIVER_PYTHON_OPTS=\"notebook\"\n",
    "pyspark --master local[2] --packages graphframes:graphframes:0.3.0-spark2.0-s_2.11\n",
    "```"
   ]
  },
  {
   "cell_type": "code",
   "execution_count": 4,
   "metadata": {
    "collapsed": false,
    "scrolled": true
   },
   "outputs": [
    {
     "name": "stdout",
     "output_type": "stream",
     "text": [
      "Requesting query... ok.\n",
      "Query running...\n",
      "Query done.\n",
      "Processed: 3.7 Gb\n",
      "\n",
      "Retrieving results...\n",
      "  Got page: 1; 100.0% done. Elapsed 7.02 s.\n",
      "Got 100000 rows.\n",
      "\n",
      "Total time taken 7.65 s.\n",
      "Finished at 2017-01-12 09:08:35.\n"
     ]
    }
   ],
   "source": [
    "import pandas as pd\n",
    "\n",
    "projectId = 'spark-151209'\n",
    "query = \"\"\"SELECT Actor1CountryCode, Actor2CountryCode, EventRootCode FROM [gdelt-bq:full.events] \n",
    "WHERE Actor1CountryCode != \"\"\n",
    "AND Actor2CountryCode != \"\"\n",
    "AND EventRootCode = '19'\n",
    "LIMIT 100000\"\"\"\n",
    "df = pd.read_gbq(query, projectId)"
   ]
  },
  {
   "cell_type": "code",
   "execution_count": 5,
   "metadata": {
    "collapsed": false
   },
   "outputs": [
    {
     "name": "stdout",
     "output_type": "stream",
     "text": [
      "+-----------------+-----------------+-------------+\n",
      "|Actor1CountryCode|Actor2CountryCode|EventRootCode|\n",
      "+-----------------+-----------------+-------------+\n",
      "|              USA|              USA|           19|\n",
      "|              USA|              NZL|           19|\n",
      "|              USA|              USA|           19|\n",
      "|              CAN|              POL|           19|\n",
      "|              USA|              USA|           19|\n",
      "|              USA|              USA|           19|\n",
      "|              ZAF|              ZAF|           19|\n",
      "|              GBR|              USA|           19|\n",
      "|              USA|              USA|           19|\n",
      "|              USA|              USA|           19|\n",
      "|              USA|              USA|           19|\n",
      "|              BGD|              BGD|           19|\n",
      "|              USA|              USA|           19|\n",
      "|              NZL|              NZL|           19|\n",
      "|              UKR|              POL|           19|\n",
      "|              SAU|              ARE|           19|\n",
      "|              SAU|              ARE|           19|\n",
      "|              AFG|              IRN|           19|\n",
      "|              AFG|              AFG|           19|\n",
      "|              ITA|              USA|           19|\n",
      "+-----------------+-----------------+-------------+\n",
      "only showing top 20 rows\n",
      "\n"
     ]
    }
   ],
   "source": [
    "sqlctx = SQLContext(sc)\n",
    "sdf = sqlctx.createDataFrame(df)\n",
    "sdf.show()"
   ]
  },
  {
   "cell_type": "code",
   "execution_count": 6,
   "metadata": {
    "collapsed": true
   },
   "outputs": [],
   "source": [
    "import graphframes\n"
   ]
  },
  {
   "cell_type": "code",
   "execution_count": null,
   "metadata": {
    "collapsed": false
   },
   "outputs": [],
   "source": [
    "keys = sdf.rdd.flatMap(lambda x: (x[0], x[1])).distinct()\n",
    "keylist = keys.collect()\n",
    "vertices = keys.map(lambda x: (x,)).toDF([\"id\"])\n",
    "edge = sdf.rdd.map(lambda x: (x[0], x[1], x[0] + \":\" +x[1])).toDF([\"src\", \"dst\", \"relation\"])\n"
   ]
  },
  {
   "cell_type": "code",
   "execution_count": null,
   "metadata": {
    "collapsed": false
   },
   "outputs": [],
   "source": [
    "g = graphframes.GraphFrame(vertices, edge)\n",
    "results = g.pageRank(resetProbability=0.15, tol=0.01)"
   ]
  },
  {
   "cell_type": "code",
   "execution_count": null,
   "metadata": {
    "collapsed": false
   },
   "outputs": [],
   "source": [
    "text = results.vertices.sort('pagerank', ascending=False).select(\"id\", \"pagerank\").show()\n",
    "type(text)"
   ]
  },
  {
   "cell_type": "code",
   "execution_count": null,
   "metadata": {
    "collapsed": true
   },
   "outputs": [],
   "source": []
  }
 ],
 "metadata": {
  "kernelspec": {
   "display_name": "Python 2",
   "language": "python",
   "name": "python2"
  },
  "language_info": {
   "codemirror_mode": {
    "name": "ipython",
    "version": 2
   },
   "file_extension": ".py",
   "mimetype": "text/x-python",
   "name": "python",
   "nbconvert_exporter": "python",
   "pygments_lexer": "ipython2",
   "version": "2.7.9"
  }
 },
 "nbformat": 4,
 "nbformat_minor": 1
}
