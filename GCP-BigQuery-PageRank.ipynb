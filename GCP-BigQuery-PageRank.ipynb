{
 "cells": [
  {
   "cell_type": "markdown",
   "metadata": {},
   "source": [
    "# Package Install\n",
    "```\n",
    "$ sudo apt-get install python2.7-dev\n",
    "$ sudo easy_install pip\n",
    "$ pip install jupyter\n",
    "$ pip install pandas\n",
    "$ pip install google-api-python-client\n",
    "$ pip install python-gflags\n",
    "```"
   ]
  },
  {
   "cell_type": "code",
   "execution_count": null,
   "metadata": {
    "collapsed": true
   },
   "outputs": [],
   "source": []
  },
  {
   "cell_type": "markdown",
   "metadata": {},
   "source": [
    "# Jupyter spark enviroment.\n",
    "```\n",
    "export PYSPARK_DRIVER_PYTHON=jupyter\n",
    "export PYSPARK_DRIVER_PYTHON_OPTS=\"notebook\"\n",
    "pyspark --master local[2] --packages graphframes:graphframes:0.3.0-spark1.6-s_2.10\n",
    "```"
   ]
  },
  {
   "cell_type": "code",
   "execution_count": 1,
   "metadata": {
    "collapsed": false,
    "scrolled": true
   },
   "outputs": [
    {
     "name": "stderr",
     "output_type": "stream",
     "text": [
      "/Users/rchen/.virtualenvs/spark/lib/python2.7/site-packages/oauth2client/_helpers.py:255: UserWarning: Cannot access bigquery_credentials.dat: No such file or directory\n",
      "  warnings.warn(_MISSING_FILE_MESSAGE.format(filename))\n"
     ]
    },
    {
     "name": "stdout",
     "output_type": "stream",
     "text": [
      "\n",
      "Failed to start a local webserver listening on either port 8080\n",
      "or port 8090. Please check your firewall settings and locally\n",
      "running programs that may be blocking or using those ports.\n",
      "\n",
      "Falling back to --noauth_local_webserver and continuing with\n",
      "authorization.\n",
      "\n",
      "\n",
      "Go to the following link in your browser:\n",
      "\n",
      "    https://accounts.google.com/o/oauth2/v2/auth?scope=https%3A%2F%2Fwww.googleapis.com%2Fauth%2Fbigquery&redirect_uri=urn%3Aietf%3Awg%3Aoauth%3A2.0%3Aoob&response_type=code&client_id=495642085510-k0tmvj2m941jhre2nbqka17vqpjfddtd.apps.googleusercontent.com&access_type=offline\n",
      "\n",
      "Enter verification code: 4/rvuK4s7h6dvM4VVJMfhheTfQNsGSkl1Y-BNPjbZ0XIA\n",
      "Authentication successful.\n",
      "Requesting query... ok.\n",
      "Query running...\n",
      "Query done.\n",
      "Processed: 3.7 Gb\n",
      "\n",
      "Retrieving results...\n",
      "Got 1000 rows.\n",
      "\n",
      "Total time taken 3.09 s.\n",
      "Finished at 2017-01-12 11:43:08.\n"
     ]
    }
   ],
   "source": [
    "import pandas as pd\n",
    "\n",
    "projectId = 'spark-151209'\n",
    "query = \"\"\"SELECT Actor1CountryCode, Actor2CountryCode, EventRootCode FROM [gdelt-bq:full.events] \n",
    "WHERE Actor1CountryCode != \"\"\n",
    "AND Actor2CountryCode != \"\"\n",
    "AND EventRootCode = '19'\n",
    "LIMIT 1000\"\"\"\n",
    "df = pd.read_gbq(query, projectId)"
   ]
  },
  {
   "cell_type": "code",
   "execution_count": 2,
   "metadata": {
    "collapsed": false
   },
   "outputs": [
    {
     "ename": "NameError",
     "evalue": "name 'SQLContext' is not defined",
     "output_type": "error",
     "traceback": [
      "\u001b[0;31m---------------------------------------------------------------------------\u001b[0m",
      "\u001b[0;31mNameError\u001b[0m                                 Traceback (most recent call last)",
      "\u001b[0;32m<ipython-input-2-9e53a5606ace>\u001b[0m in \u001b[0;36m<module>\u001b[0;34m()\u001b[0m\n\u001b[0;32m----> 1\u001b[0;31m \u001b[0msqlctx\u001b[0m \u001b[0;34m=\u001b[0m \u001b[0mSQLContext\u001b[0m\u001b[0;34m(\u001b[0m\u001b[0msc\u001b[0m\u001b[0;34m)\u001b[0m\u001b[0;34m\u001b[0m\u001b[0m\n\u001b[0m\u001b[1;32m      2\u001b[0m \u001b[0msdf\u001b[0m \u001b[0;34m=\u001b[0m \u001b[0msqlctx\u001b[0m\u001b[0;34m.\u001b[0m\u001b[0mcreateDataFrame\u001b[0m\u001b[0;34m(\u001b[0m\u001b[0mdf\u001b[0m\u001b[0;34m)\u001b[0m\u001b[0;34m\u001b[0m\u001b[0m\n\u001b[1;32m      3\u001b[0m \u001b[0msdf\u001b[0m\u001b[0;34m.\u001b[0m\u001b[0mshow\u001b[0m\u001b[0;34m(\u001b[0m\u001b[0;34m)\u001b[0m\u001b[0;34m\u001b[0m\u001b[0m\n",
      "\u001b[0;31mNameError\u001b[0m: name 'SQLContext' is not defined"
     ]
    }
   ],
   "source": [
    "sqlctx = SQLContext(sc)\n",
    "sdf = sqlctx.createDataFrame(df)\n",
    "sdf.show()"
   ]
  },
  {
   "cell_type": "code",
   "execution_count": 16,
   "metadata": {
    "collapsed": false
   },
   "outputs": [],
   "source": [
    "import graphframes\n",
    "\n",
    "keys = sdf.flatMap(lambda x: (x[0], x[1])).distinct()\n",
    "keylist = keys.collect()\n",
    "vertices = keys.map(lambda x: (x,)).toDF([\"id\"])\n",
    "edge = sdf.map(lambda x: (x[0], x[1])).toDF([\"src\", \"dst\"])\n",
    "g = graphframes.GraphFrame(vertices, edge)"
   ]
  },
  {
   "cell_type": "code",
   "execution_count": 17,
   "metadata": {
    "collapsed": false
   },
   "outputs": [],
   "source": [
    "results = g.pageRank(resetProbability=0.0001, maxIter=20)\n"
   ]
  },
  {
   "cell_type": "code",
   "execution_count": 18,
   "metadata": {
    "collapsed": false
   },
   "outputs": [
    {
     "name": "stdout",
     "output_type": "stream",
     "text": [
      "+---+--------------------+\n",
      "| id|            pagerank|\n",
      "+---+--------------------+\n",
      "|AFG|0.010078213182363351|\n",
      "|USA|0.009731350299274757|\n",
      "|DEU|0.007294977300554158|\n",
      "|UGA|0.005693943979311197|\n",
      "|ISR|0.004657865118146054|\n",
      "|AUS|0.004073478420682504|\n",
      "|PSE|0.003365360237612...|\n",
      "|BGD|0.002944806256266398|\n",
      "|SYR|0.002818097548021146|\n",
      "|FRA|0.002690311636449911|\n",
      "|SAU|0.002136359804535...|\n",
      "|TTO|0.002097901329401704|\n",
      "|BDI|0.002097901329401704|\n",
      "|SLV|0.002097901329401704|\n",
      "|COL|0.002097901329401704|\n",
      "|HND|0.002097901329401704|\n",
      "|AFR| 0.00209609769884462|\n",
      "|GBR|0.002023427248577...|\n",
      "|ZAF|0.002000560474343...|\n",
      "|CAN|0.001753028031950...|\n",
      "+---+--------------------+\n",
      "only showing top 20 rows\n",
      "\n"
     ]
    }
   ],
   "source": [
    "results.vertices.sort('pagerank', ascending=False).select(\"id\", \"pagerank\").show()"
   ]
  },
  {
   "cell_type": "code",
   "execution_count": null,
   "metadata": {
    "collapsed": true
   },
   "outputs": [],
   "source": []
  }
 ],
 "metadata": {
  "kernelspec": {
   "display_name": "Python 2",
   "language": "python",
   "name": "python2"
  },
  "language_info": {
   "codemirror_mode": {
    "name": "ipython",
    "version": 2
   },
   "file_extension": ".py",
   "mimetype": "text/x-python",
   "name": "python",
   "nbconvert_exporter": "python",
   "pygments_lexer": "ipython2",
   "version": "2.7.10"
  }
 },
 "nbformat": 4,
 "nbformat_minor": 1
}
