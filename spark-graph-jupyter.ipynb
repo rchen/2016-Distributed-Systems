{
 "cells": [
  {
   "cell_type": "markdown",
   "metadata": {},
   "source": [
    "# Install jupyter\n",
    "\n",
    "```\n",
    "pip install jupyter\n",
    "```\n",
    "\n"
   ]
  },
  {
   "cell_type": "markdown",
   "metadata": {},
   "source": [
    "# Jupyter spark enviroment.\n",
    "```\n",
    "export PYSPARK_DRIVER_PYTHON=jupyter\n",
    "export PYSPARK_DRIVER_PYTHON_OPTS=\"notebook\"\n",
    "pyspark --master local[2] --packages graphframes:graphframes:0.3.0-spark1.6-s_2.10\n",
    "```"
   ]
  },
  {
   "cell_type": "markdown",
   "metadata": {},
   "source": [
    "# Get file list"
   ]
  },
  {
   "cell_type": "code",
   "execution_count": 1,
   "metadata": {
    "collapsed": false
   },
   "outputs": [],
   "source": [
    "import requests\n",
    "import lxml.html as lh\n",
    "\n",
    "gdelt_base_url = 'http://data.gdeltproject.org/events/'\n",
    "\n",
    "page = requests.get(gdelt_base_url+'index.html')\n",
    "doc = lh.fromstring(page.content)\n",
    "link_list = doc.xpath(\"//*/ul/li/a/@href\")\n",
    "\n",
    "file_list = [x for x in link_list if str.isdigit(x[0:4])]"
   ]
  },
  {
   "cell_type": "code",
   "execution_count": 2,
   "metadata": {
    "collapsed": false
   },
   "outputs": [],
   "source": [
    "import datetime\n",
    "datetime.datetime.now().strftime(\"%Y%m%d\")\n",
    "from datetime import datetime, timedelta\n",
    "\n",
    "today = datetime.today()\n",
    "tmpfiles = []\n",
    "while (1):\n",
    "    if len(tmpfiles) == 6:\n",
    "        break\n",
    "    date_string = today.strftime(\"%Y%m%d\") + \".export.CSV.zip\"\n",
    "    if date_string in file_list:\n",
    "        tmpfiles.append(date_string)\n",
    "    today -= timedelta(days=1)"
   ]
  },
  {
   "cell_type": "code",
   "execution_count": 3,
   "metadata": {
    "collapsed": false
   },
   "outputs": [],
   "source": [
    "import os.path\n",
    "import urllib\n",
    "import zipfile\n",
    "\n",
    "if not os.path.isdir('data'):\n",
    "    os.mkdir('data')\n",
    "\n",
    "rdd = None\n",
    "for download_file in tmpfiles:\n",
    "    zipfilename = './data/' + download_file\n",
    "    while not os.path.isfile(zipfilename):\n",
    "        urllib.urlretrieve(url=gdelt_base_url + download_file,\n",
    "                           filename=zipfilename)\n",
    "    zf = zipfile.ZipFile(file=zipfilename, mode='r')\n",
    "    for info in zf.infolist():\n",
    "        data = zf.read(info.filename)\n",
    "        tmprdd = sc.parallelize(data.split('\\n')).map(lambda line: line.split('\\t'))\n",
    "        if rdd:\n",
    "            rdd = sc.union([rdd, tmprdd])\n",
    "        else:\n",
    "            rdd = tmprdd\n",
    "    zf.close()\n"
   ]
  },
  {
   "cell_type": "code",
   "execution_count": 4,
   "metadata": {
    "collapsed": false
   },
   "outputs": [
    {
     "name": "stdout",
     "output_type": "stream",
     "text": [
      "data cnt:  16981\n"
     ]
    }
   ],
   "source": [
    "import graphframes\n",
    "import random\n",
    "data = rdd.filter(lambda line: len(line) == 58)\\\n",
    "        .filter(lambda line: line[7] != \"\" and line[7] != None)\\\n",
    "        .filter(lambda line: line[17] != \"\" and line[17] != None)\\\n",
    "        .filter(lambda line: line[28] == \"19\")\\\n",
    "        .map(lambda line: (line[7], line[17]))\n",
    "data.cache()\n",
    "print \"data cnt: \", data.count()\n",
    "keys = data.flatMap(lambda x: (x[0], x[1])).distinct()\n",
    "keylist = keys.collect()\n",
    "sqlContext = SQLContext(sc)\n",
    "vertices = keys.map(lambda x: (keylist.index(x), x)).toDF([\"id\", \"name\"])\n",
    "edge = data.map(lambda x: (keylist.index(x[0]), keylist.index(x[1]), x[0] + \":\" + x[1])).toDF([\"src\", \"dst\", \"relationship\"])\n",
    "g = graphframes.GraphFrame(vertices, edge)\n"
   ]
  },
  {
   "cell_type": "code",
   "execution_count": 5,
   "metadata": {
    "collapsed": false
   },
   "outputs": [],
   "source": [
    "results = g.pageRank(resetProbability=0.0001, maxIter=20)\n",
    "\n"
   ]
  },
  {
   "cell_type": "code",
   "execution_count": 6,
   "metadata": {
    "collapsed": false
   },
   "outputs": [
    {
     "name": "stdout",
     "output_type": "stream",
     "text": [
      "+----+--------------------+\n",
      "|name|            pagerank|\n",
      "+----+--------------------+\n",
      "| USA| 0.08072696742055645|\n",
      "| SYR|  0.0249218889561444|\n",
      "| IRQ|0.014433021876873058|\n",
      "| AFG|0.013552605443693825|\n",
      "| GBR|0.013178425313217201|\n",
      "| RUS|0.009542773663141414|\n",
      "| IRN|0.009400180132529587|\n",
      "| DEU|0.008040352567475727|\n",
      "| ISR|0.006522195331280399|\n",
      "| SAU|0.006143162503799965|\n",
      "| FRA|0.005864131303488251|\n",
      "| TUR|0.005578346865722095|\n",
      "| NGA|0.005468691767628191|\n",
      "| PAK|0.005364283130664706|\n",
      "| CAN|0.005204803732281306|\n",
      "| AUS|0.004945816524759933|\n",
      "| CHN|0.004424257705490986|\n",
      "| YEM|0.004033055595166144|\n",
      "| JPN|0.003910145159530437|\n",
      "| PSE|0.003617808402184263|\n",
      "+----+--------------------+\n",
      "only showing top 20 rows\n",
      "\n"
     ]
    }
   ],
   "source": [
    "results.vertices.sort('pagerank', ascending=False).select(\"name\", \"pagerank\").show()"
   ]
  },
  {
   "cell_type": "markdown",
   "metadata": {},
   "source": [
    "# Reference\n",
    "Graphframes Documents: [http://graphframes.github.io/user-guide.html#pagerank](http://graphframes.github.io/user-guide.html#pagerank)\n",
    "\n",
    "Spark graphframes package: [https://spark-packages.org/package/graphframes/graphframes](https://spark-packages.org/package/graphframes/graphframes)"
   ]
  },
  {
   "cell_type": "code",
   "execution_count": null,
   "metadata": {
    "collapsed": true
   },
   "outputs": [],
   "source": []
  }
 ],
 "metadata": {
  "kernelspec": {
   "display_name": "Python 2",
   "language": "python",
   "name": "python2"
  },
  "language_info": {
   "codemirror_mode": {
    "name": "ipython",
    "version": 2
   },
   "file_extension": ".py",
   "mimetype": "text/x-python",
   "name": "python",
   "nbconvert_exporter": "python",
   "pygments_lexer": "ipython2",
   "version": "2.7.10"
  }
 },
 "nbformat": 4,
 "nbformat_minor": 1
}
